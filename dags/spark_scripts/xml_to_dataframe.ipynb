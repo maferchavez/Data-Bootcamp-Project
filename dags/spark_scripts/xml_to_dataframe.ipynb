{
 "cells": [
  {
   "cell_type": "code",
   "execution_count": 1,
   "metadata": {},
   "outputs": [],
   "source": [
    "import findspark\n",
    "findspark.init()\n",
    "import requests\n",
    "import xml.etree.ElementTree as ET\n",
    "from pyspark import SparkContext\n",
    "from pyspark.sql.functions import * #desc, col\n",
    "from pyspark.sql import *\n",
    "from pyspark.sql.types import *"
   ]
  },
  {
   "cell_type": "code",
   "execution_count": 2,
   "metadata": {},
   "outputs": [
    {
     "data": {
      "text/html": [
       "\n",
       "            <div>\n",
       "                <p><b>SparkSession - in-memory</b></p>\n",
       "                \n",
       "        <div>\n",
       "            <p><b>SparkContext</b></p>\n",
       "\n",
       "            <p><a href=\"http://LAPTOP-FGC84BIL:4040\">Spark UI</a></p>\n",
       "\n",
       "            <dl>\n",
       "              <dt>Version</dt>\n",
       "                <dd><code>v3.1.3</code></dd>\n",
       "              <dt>Master</dt>\n",
       "                <dd><code>local[*]</code></dd>\n",
       "              <dt>AppName</dt>\n",
       "                <dd><code>pyspark-shell</code></dd>\n",
       "            </dl>\n",
       "        </div>\n",
       "        \n",
       "            </div>\n",
       "        "
      ],
      "text/plain": [
       "<pyspark.sql.session.SparkSession at 0x12f43aeb408>"
      ]
     },
     "execution_count": 2,
     "metadata": {},
     "output_type": "execute_result"
    }
   ],
   "source": [
    "# Create session\n",
    "spark = SparkSession.builder.getOrCreate()\n",
    "spark"
   ]
  },
  {
   "cell_type": "code",
   "execution_count": 3,
   "metadata": {},
   "outputs": [],
   "source": [
    "# Create a new data frame for movie_review.csv\n",
    "log_df = spark.read.csv('C:/Users/maryf/Capstone project/log_reviews.csv', sep=',', header=True)"
   ]
  },
  {
   "cell_type": "code",
   "execution_count": 13,
   "metadata": {},
   "outputs": [],
   "source": [
    "# Take a little part of the data frame to make tests.\n",
    "mini_df = log_df.limit(100000)\n",
    "#mini_df.printSchema()"
   ]
  },
  {
   "cell_type": "code",
   "execution_count": 14,
   "metadata": {},
   "outputs": [],
   "source": [
    "# Create a schema to keep the data that comes from xml\n",
    "extract_log_info_schema = StructType([\n",
    "    StructField(\"logDate\", StringType(), True),\n",
    "    StructField(\"device\", StringType(), True),\n",
    "    StructField(\"location\", StringType(), True),\n",
    "    StructField(\"os\", StringType(), True),\n",
    "    StructField(\"ipAddress\", StringType(), True),\n",
    "    StructField(\"phoneNumber\", StringType(), True),\n",
    "])\n",
    "\n",
    "# Define a function to obtain the selected data from xml\n",
    "def select_text(doc, xpath):\n",
    "    nodes = [e.text for e in doc.findall('./log/'+ xpath) if isinstance(e, ET.Element)]\n",
    "    return next(iter(nodes), None)\n",
    "\n",
    "# Define a function to extract the data\n",
    "def extract_log_info(payload):\n",
    "    doc = ET.fromstring(payload)\n",
    "    return {\n",
    "        'logDate':  select_text(doc, 'logDate'),\n",
    "        'device': select_text(doc, 'device'),\n",
    "        'location': select_text(doc, 'location'),\n",
    "        'os': select_text(doc, 'os'),\n",
    "        'ipAddress': select_text(doc, 'ipAddress'),\n",
    "        'phoneNumber': select_text(doc, 'phoneNumber')\n",
    "        }\n",
    "# Create a udf function\n",
    "extract_log_info_udf = udf(extract_log_info, extract_log_info_schema)"
   ]
  },
  {
   "cell_type": "code",
   "execution_count": 15,
   "metadata": {},
   "outputs": [
    {
     "name": "stdout",
     "output_type": "stream",
     "text": [
      "+---------+----------+--------+-------------+-----------------+------------+------------+\n",
      "|id_review|   logDate|  device|     location|               os|   ipAddress| phoneNumber|\n",
      "+---------+----------+--------+-------------+-----------------+------------+------------+\n",
      "|        1|04-25-2021|  Mobile|       Kansas|        Apple iOS|9.200.232.57|821-540-5777|\n",
      "|        2|03-13-2021|  Tablet|       Oregon|   Google Android|9.200.232.57|819-102-1320|\n",
      "|        3|09-30-2021|  Tablet|    Minnesota|        Apple iOS|9.200.232.57|989-156-0498|\n",
      "|        4|05-24-2021|  Tablet|     Arkansas|      Apple MacOS|9.200.232.57|225-837-9935|\n",
      "|        5|02-01-2021|  Tablet|New Hampshire|            Linux|9.200.232.57|243-842-4562|\n",
      "|        6|07-23-2021|  Tablet|  Pensylvania|        Apple iOS|9.200.232.57|694-501-4352|\n",
      "|        7|10-13-2021|Computer|     New York|      Apple MacOS|9.200.232.57|430-449-7136|\n",
      "|        8|09-18-2021|Computer|   California|Microsoft Windows|9.200.232.57|633-661-7714|\n",
      "|        9|05-08-2021|  Tablet|   Washington|      Apple MacOS|9.200.232.57|450-036-0504|\n",
      "|       10|03-04-2021|  Tablet|     Lousiana|            Linux|9.200.232.57|738-536-6776|\n",
      "|       11|06-19-2021|Computer|    Minnesota|   Google Android|9.200.232.57|682-519-9021|\n",
      "|       12|03-23-2021|  Mobile|     Arkansas|   Google Android|9.200.232.57|678-722-6084|\n",
      "|       13|04-08-2021|  Mobile|  Pensylvania|            Linux|9.200.232.57|781-850-8167|\n",
      "|       14|06-29-2021|  Mobile|     Lousiana|Microsoft Windows|9.200.232.57|208-216-2106|\n",
      "|       15|10-20-2021|Computer|        Idaho|            Linux|9.200.232.57|693-854-2646|\n",
      "|       16|06-03-2021|  Mobile|      Montana|            Linux|9.200.232.57|805-540-1405|\n",
      "|       17|05-27-2021|  Tablet|     Nebraska|      Apple MacOS|9.200.232.57|896-134-1623|\n",
      "|       18|04-01-2021|  Tablet|      Alabama|      Apple MacOS|9.200.232.57|850-716-4779|\n",
      "|       19|06-12-2021|  Tablet|     Missouri|   Google Android|9.200.232.57|946-565-9757|\n",
      "|       20|05-09-2021|Computer| Rhode Island|   Google Android|9.200.232.57|938-623-1577|\n",
      "+---------+----------+--------+-------------+-----------------+------------+------------+\n",
      "only showing top 20 rows\n",
      "\n"
     ]
    }
   ],
   "source": [
    "another_df = mini_df.withColumn(\"info\", extract_log_info_udf('log')).select('id_review', 'info.logDate', 'info.device', 'info.location', 'info.os', 'info.ipAddress', 'info.phoneNumber')\n",
    "another_df.show()"
   ]
  }
 ],
 "metadata": {
  "kernelspec": {
   "display_name": "Python 3",
   "language": "python",
   "name": "python3"
  },
  "language_info": {
   "codemirror_mode": {
    "name": "ipython",
    "version": 3
   },
   "file_extension": ".py",
   "mimetype": "text/x-python",
   "name": "python",
   "nbconvert_exporter": "python",
   "pygments_lexer": "ipython3",
   "version": "3.7.4"
  }
 },
 "nbformat": 4,
 "nbformat_minor": 2
}
