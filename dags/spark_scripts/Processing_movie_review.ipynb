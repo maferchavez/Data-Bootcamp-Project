{
 "cells": [
  {
   "cell_type": "code",
   "execution_count": 1,
   "metadata": {},
   "outputs": [],
   "source": [
    "import findspark\n",
    "findspark.init()\n",
    "from pyspark import SparkContext\n",
    "from pyspark.sql.functions import * #desc, col\n",
    "from pyspark.sql import SparkSession, DataFrame, SQLContext\n",
    "from pyspark.ml.feature import Tokenizer\n",
    "from pyspark.ml.feature import StopWordsRemover"
   ]
  },
  {
   "cell_type": "code",
   "execution_count": 2,
   "metadata": {},
   "outputs": [
    {
     "data": {
      "text/html": [
       "\n",
       "            <div>\n",
       "                <p><b>SparkSession - in-memory</b></p>\n",
       "                \n",
       "        <div>\n",
       "            <p><b>SparkContext</b></p>\n",
       "\n",
       "            <p><a href=\"http://LAPTOP-FGC84BIL:4041\">Spark UI</a></p>\n",
       "\n",
       "            <dl>\n",
       "              <dt>Version</dt>\n",
       "                <dd><code>v3.1.3</code></dd>\n",
       "              <dt>Master</dt>\n",
       "                <dd><code>local[*]</code></dd>\n",
       "              <dt>AppName</dt>\n",
       "                <dd><code>pyspark-shell</code></dd>\n",
       "            </dl>\n",
       "        </div>\n",
       "        \n",
       "            </div>\n",
       "        "
      ],
      "text/plain": [
       "<pyspark.sql.session.SparkSession at 0x18c7d1c6788>"
      ]
     },
     "execution_count": 2,
     "metadata": {},
     "output_type": "execute_result"
    }
   ],
   "source": [
    "# Create session\n",
    "spark = SparkSession.builder.getOrCreate()\n",
    "spark"
   ]
  },
  {
   "cell_type": "code",
   "execution_count": 3,
   "metadata": {},
   "outputs": [],
   "source": [
    "# Create a new data frame for movie_review.csv\n",
    "movie_df = spark.read.csv('C:/Users/maryf/Capstone project/movie_review.csv', sep=',', header=True)"
   ]
  },
  {
   "cell_type": "code",
   "execution_count": 4,
   "metadata": {},
   "outputs": [],
   "source": [
    "# Take a little part of the data frame to make tests.\n",
    "mini_df = movie_df.limit(100000)"
   ]
  },
  {
   "cell_type": "code",
   "execution_count": 5,
   "metadata": {},
   "outputs": [],
   "source": [
    "# Use Tokenizer for converting \"review_str\" strings to a words array\n",
    "tokenizer = Tokenizer(inputCol=\"review_str\", outputCol=\"review_words\")\n",
    "tokenized = tokenizer.transform(mini_df).select(\"cid\",\"id_review\",\"review_words\")"
   ]
  },
  {
   "cell_type": "code",
   "execution_count": 6,
   "metadata": {},
   "outputs": [],
   "source": [
    "# Drop StopWords from review_words. The cleaned words are in \"Cleaned\"\n",
    "cleaned = StopWordsRemover (inputCol = \"review_words\", outputCol = \"Cleaned\")\n",
    "mini_df = cleaned.transform(tokenized).select(\"cid\", \"id_review\", \"Cleaned\")"
   ]
  },
  {
   "cell_type": "code",
   "execution_count": 7,
   "metadata": {},
   "outputs": [],
   "source": [
    "# Create a list of \"good words\" for describing a good movie\n",
    "#good_words = ['good','nice','enjoyable','funny','interesting','surprising','hilarious','romantic','fast-moving','pleasant','fascinating','charming','best']\n",
    "cool_df = mini_df.select(\"cid\",\"id_review\", array_contains(mini_df.Cleaned, \"good\").alias(\"positive_review\"))"
   ]
  },
  {
   "cell_type": "code",
   "execution_count": 8,
   "metadata": {},
   "outputs": [
    {
     "name": "stdout",
     "output_type": "stream",
     "text": [
      "+-----+---------+---------------+\n",
      "|  cid|id_review|positive_review|\n",
      "+-----+---------+---------------+\n",
      "|13756|        1|              0|\n",
      "|15738|        2|              0|\n",
      "|15727|        3|              0|\n",
      "|17954|        4|              0|\n",
      "|16579|        5|              1|\n",
      "|14841|        6|              0|\n",
      "|18085|        7|              0|\n",
      "|16365|        8|              1|\n",
      "|17912|        9|              0|\n",
      "|15100|       10|              0|\n",
      "|16781|       11|              0|\n",
      "|16656|       12|              1|\n",
      "|14390|       13|              1|\n",
      "|17975|       14|              0|\n",
      "|17616|       15|              0|\n",
      "|14589|       16|              0|\n",
      "|17629|       17|              0|\n",
      "|13089|       18|              0|\n",
      "|16752|       19|              1|\n",
      "|13579|       20|              0|\n",
      "+-----+---------+---------------+\n",
      "only showing top 20 rows\n",
      "\n"
     ]
    }
   ],
   "source": [
    "#output dataframe\n",
    "super_df= cool_df.select(col(\"cid\"), col(\"id_review\"),col(\"positive_review\").cast(\"integer\"))\n",
    "super_df.show()"
   ]
  },
  {
   "cell_type": "code",
   "execution_count": null,
   "metadata": {},
   "outputs": [],
   "source": []
  }
 ],
 "metadata": {
  "kernelspec": {
   "display_name": "Python 3",
   "language": "python",
   "name": "python3"
  },
  "language_info": {
   "codemirror_mode": {
    "name": "ipython",
    "version": 3
   },
   "file_extension": ".py",
   "mimetype": "text/x-python",
   "name": "python",
   "nbconvert_exporter": "python",
   "pygments_lexer": "ipython3",
   "version": "3.7.4"
  }
 },
 "nbformat": 4,
 "nbformat_minor": 2
}
